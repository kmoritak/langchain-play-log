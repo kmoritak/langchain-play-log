{
 "cells": [
  {
   "cell_type": "markdown",
   "id": "f69b7fc3-4888-4f09-b34a-b2bccf775ccd",
   "metadata": {
    "collapsed": false
   },
   "source": [
    "# csv, SQLite を探すサンプル\n",
    "\n",
    "csv や SQLite から、LLM を利用してクエリをもとにデータを探し出すサンプル"
   ]
  },
  {
   "cell_type": "code",
   "execution_count": null,
   "id": "9138b284-378e-4fde-aca5-1daff0a72396",
   "metadata": {
    "collapsed": false
   },
   "outputs": [],
   "source": [
    "import os\n",
    "f\"OpenAI API Key is {os.environ['OPENAI_API_KEY']}.\"\n"
   ]
  },
  {
   "cell_type": "markdown",
   "id": "53415c24-4b20-4c4c-a0a7-8e7f92057f28",
   "metadata": {
    "collapsed": false
   },
   "source": [
    "サンプルデータとして、人口推計表をダウンロードする。\n",
    "https://dashboard.e-stat.go.jp/timeSeriesResult?indicatorCode=0201010000000010000 から「ダウンロード」ボタンをクリックして csv ファイルをダウンロードする。\n",
    "\n",
    "> 出典：政府統計の総合窓口(e-Stat)（https://www.e-stat.go.jp/）\n",
    "\n",
    "以下の `file_name` 変数を適当に書き換える。"
   ]
  },
  {
   "cell_type": "code",
   "execution_count": 25,
   "id": "87b89086-7a86-479c-8eb7-894dd948e524",
   "metadata": {
    "collapsed": false
   },
   "outputs": [],
   "source": [
    "file_name = '/path/to/TimeSeriesResult_YYYYMMDDHHMMSSF.csv'"
   ]
  },
  {
   "cell_type": "markdown",
   "id": "a8e410fc-9af3-4f32-a7be-45ef1112a561",
   "metadata": {
    "collapsed": false
   },
   "source": [
    "## csv からデータを探す。\n",
    "csv ファイルから目的のデータを探し出すクエリを投げる。"
   ]
  },
  {
   "cell_type": "code",
   "execution_count": 26,
   "id": "4cdfb562-1e95-481c-a057-916e8a729884",
   "metadata": {
    "collapsed": false
   },
   "outputs": [
    {
     "name": "stdout",
     "output_type": "stream",
     "text": [
      "\n",
      "\n",
      "\u001b[1m> Entering new AgentExecutor chain...\u001b[0m\n"
     ]
    },
    {
     "name": "stdout",
     "output_type": "stream",
     "text": [
      "\u001b[32;1m\u001b[1;3mThought: 総人口が最も多い年を探します。\n",
      "Action: python_repl_ast\n",
      "Action Input: df[df['総人口（総数）【人】'].idxmax()]\u001b[0m\n",
      "Observation: \u001b[36;1m\u001b[1;3m64\u001b[0m\n",
      "Thought:"
     ]
    },
    {
     "name": "stdout",
     "output_type": "stream",
     "text": [
      "\u001b[32;1m\u001b[1;3m 最大値を持つ時点を調べます。\n",
      "Action: python_repl_ast\n",
      "Action Input: df.at[df['総人口（総数）【人】'].idxmax(), '時点']\u001b[0m\n",
      "Observation: \u001b[36;1m\u001b[1;3m2008 年\u001b[0m\n",
      "Thought:"
     ]
    },
    {
     "name": "stdout",
     "output_type": "stream",
     "text": [
      "\u001b[32;1m\u001b[1;3m 最大値を持つのは2008年です。\n",
      "Final Answer: 2008年が総人口の最大値を持つ。\u001b[0m\n",
      "\n",
      "\u001b[1m> Finished chain.\u001b[0m\n"
     ]
    },
    {
     "data": {
      "text/plain": [
       "'2008年が総人口の最大値を持つ。'"
      ]
     },
     "execution_count": 26,
     "metadata": {},
     "output_type": "execute_result"
    }
   ],
   "source": [
    "from langchain.agents import create_csv_agent\n",
    "from langchain.llms import OpenAI\n",
    "agent = create_csv_agent(OpenAI(), file_name, verbose=True)\n",
    "agent.run(\"何年が総人口の最大値を持つ?\")"
   ]
  },
  {
   "cell_type": "markdown",
   "id": "fd49fecc-6ae7-40a4-8a33-1ea32029fb67",
   "metadata": {
    "collapsed": false
   },
   "source": [
    "## SQLite からデータを探す。\n",
    "1. 上で使用した csv ファイルを `pandas.DataFrame` で読み出す。\n",
    "2. それを `to_sql()` で SQLite に保存する。\n",
    "3. 保存されたデータベースから欲しいデータを検索する。\n"
   ]
  },
  {
   "cell_type": "code",
   "execution_count": 30,
   "id": "1ee95436-5fde-41c5-b56c-0d993d4ee524",
   "metadata": {
    "collapsed": false
   },
   "outputs": [],
   "source": [
    "import pandas as pd\n",
    "import sqlite3\n",
    "\n",
    "df = pd.read_csv(file_name, encoding=\"utf-8\")\n",
    "with sqlite3.connect(\"sample.db\") as conn:\n",
    "    df.to_sql('sample', conn, if_exists = 'fail', index = False)\n"
   ]
  },
  {
   "cell_type": "code",
   "execution_count": 32,
   "id": "7cfb6005-ec7b-4fad-8a98-071d6eb61fb5",
   "metadata": {
    "collapsed": false
   },
   "outputs": [
    {
     "name": "stdout",
     "output_type": "stream",
     "text": [
      "\n",
      "\n",
      "\u001b[1m> Entering new AgentExecutor chain...\u001b[0m\n"
     ]
    },
    {
     "name": "stdout",
     "output_type": "stream",
     "text": [
      "\u001b[32;1m\u001b[1;3mAction: list_tables_sql_db\n",
      "Action Input: \"\"\u001b[0m\n",
      "Observation: \u001b[38;5;200m\u001b[1;3msample\u001b[0m\n",
      "Thought:"
     ]
    },
    {
     "name": "stdout",
     "output_type": "stream",
     "text": [
      "\u001b[32;1m\u001b[1;3m I can use the table 'sample' to get the answer to the question.\n",
      "Action: schema_sql_db\n",
      "Action Input: \"sample\"\u001b[0m\n",
      "Observation: \u001b[33;1m\u001b[1;3m\n",
      "CREATE TABLE sample (\n",
      "\t\"時点\" TEXT, \n",
      "\t\"地域コード\" INTEGER, \n",
      "\t\"地域\" TEXT, \n",
      "\t\"総人口（総数）【人】\" INTEGER, \n",
      "\t\"注記\" TEXT\n",
      ")\n",
      "/*\n",
      "3 rows from sample table:\n",
      "時点\t地域コード\t地域\t総人口（総数）【人】\t注記\n",
      "1920 年\t0\t全国\t55963053\t総務省統計局「国勢調査」による。\n",
      "1925 年\t0\t全国\t59736822\t総務省統計局「国勢調査」による。\n",
      "1930 年\t0\t全国\t64450005\t総務省統計局「国勢調査」による。\n",
      "*/\u001b[0m\n",
      "Thought:"
     ]
    },
    {
     "name": "stdout",
     "output_type": "stream",
     "text": [
      "\u001b[32;1m\u001b[1;3m I can use the '時点' and '総人口（総数）【人】' columns to get the answer.\n",
      "Action: query_checker_sql_db\n",
      "Action Input: \"SELECT 時点, MAX(総人口（総数）【人】) FROM sample\"\u001b[0m"
     ]
    },
    {
     "name": "stdout",
     "output_type": "stream",
     "text": [
      "\n",
      "Observation: \u001b[31;1m\u001b[1;3m\n",
      "\n",
      "SELECT 時点, MAX(総人口（総数）【人】) FROM sample;\u001b[0m\n",
      "Thought:"
     ]
    },
    {
     "name": "stdout",
     "output_type": "stream",
     "text": [
      "\u001b[32;1m\u001b[1;3m The query looks correct, so I can execute it.\n",
      "Action: query_sql_db\n",
      "Action Input: \"SELECT 時点, MAX(総人口（総数）【人】) FROM sample\"\u001b[0m\n",
      "Observation: \u001b[36;1m\u001b[1;3m[('2008 年', 128084000)]\u001b[0m\n",
      "Thought:"
     ]
    },
    {
     "name": "stdout",
     "output_type": "stream",
     "text": [
      "\u001b[32;1m\u001b[1;3m I now know the answer to the original question.\n",
      "Final Answer: 2008年が総人口の最大値を持つ\u001b[0m\n",
      "\n",
      "\u001b[1m> Finished chain.\u001b[0m\n"
     ]
    },
    {
     "data": {
      "text/plain": [
       "'2008年が総人口の最大値を持つ'"
      ]
     },
     "execution_count": 32,
     "metadata": {},
     "output_type": "execute_result"
    }
   ],
   "source": [
    "from langchain.agents import create_sql_agent\n",
    "from langchain.agents.agent_toolkits import SQLDatabaseToolkit\n",
    "from langchain.sql_database import SQLDatabase\n",
    "from langchain.llms.openai import OpenAI\n",
    "from langchain.agents import AgentExecutor\n",
    "\n",
    "db = SQLDatabase.from_uri('sqlite:///./sample.db')\n",
    "toolkit = SQLDatabaseToolkit(db=db)\n",
    "\n",
    "agent_executor = create_sql_agent(\n",
    "    llm=OpenAI(),\n",
    "    toolkit=toolkit,\n",
    "    verbose=True\n",
    ")\n",
    "\n",
    "agent_executor.run(\"何年が総人口の最大値を持つ?\")\n"
   ]
  }
 ],
 "metadata": {
  "kernelspec": {
   "argv": [
    "python",
    "-m",
    "ipykernel_launcher",
    "-f",
    "{connection_file}"
   ],
   "display_name": "Python 3 (ipykernel)",
   "env": null,
   "interrupt_mode": "signal",
   "language": "python",
   "metadata": {
    "debugger": true
   },
   "name": "python3"
  },
  "name": "csv-and-sqlite.ipynb"
 },
 "nbformat": 4,
 "nbformat_minor": 5
}
